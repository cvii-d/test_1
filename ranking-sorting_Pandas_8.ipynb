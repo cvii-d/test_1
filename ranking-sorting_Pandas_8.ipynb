{
 "cells": [
  {
   "cell_type": "code",
   "execution_count": 1,
   "source": [
    "import numpy as np\n",
    "from pandas import Series, DataFrame\n",
    "import pandas as pd"
   ],
   "outputs": [],
   "metadata": {}
  },
  {
   "cell_type": "code",
   "execution_count": 2,
   "source": [
    "#create series\n",
    "ser1 = Series(range(3), index=['C','A','B'])\n",
    "\n",
    "ser1"
   ],
   "outputs": [
    {
     "output_type": "execute_result",
     "data": {
      "text/plain": [
       "C    0\n",
       "A    1\n",
       "B    2\n",
       "dtype: int64"
      ]
     },
     "metadata": {},
     "execution_count": 2
    }
   ],
   "metadata": {}
  },
  {
   "cell_type": "code",
   "execution_count": 3,
   "source": [
    "#sorting\n",
    "ser1.sort_index()"
   ],
   "outputs": [
    {
     "output_type": "execute_result",
     "data": {
      "text/plain": [
       "A    1\n",
       "B    2\n",
       "C    0\n",
       "dtype: int64"
      ]
     },
     "metadata": {},
     "execution_count": 3
    }
   ],
   "metadata": {}
  },
  {
   "cell_type": "code",
   "execution_count": 8,
   "source": [
    "#sorting by values not the index\n",
    "#in pandas is .order is renamed to .sort_values\n",
    "ser1.sort_values()"
   ],
   "outputs": [
    {
     "output_type": "execute_result",
     "data": {
      "text/plain": [
       "C    0\n",
       "A    1\n",
       "B    2\n",
       "dtype: int64"
      ]
     },
     "metadata": {},
     "execution_count": 8
    }
   ],
   "metadata": {}
  },
  {
   "cell_type": "code",
   "execution_count": 9,
   "source": [
    "#ranking\n",
    "from numpy.random import randn"
   ],
   "outputs": [],
   "metadata": {}
  },
  {
   "cell_type": "code",
   "execution_count": 10,
   "source": [
    "#ranking - create new series\n",
    "ser2 = Series(randn(10))\n",
    "ser2"
   ],
   "outputs": [
    {
     "output_type": "execute_result",
     "data": {
      "text/plain": [
       "0    0.582825\n",
       "1   -0.210242\n",
       "2    0.294600\n",
       "3    0.765648\n",
       "4    1.460849\n",
       "5   -0.286020\n",
       "6   -0.015591\n",
       "7    0.415363\n",
       "8   -0.284541\n",
       "9    0.409274\n",
       "dtype: float64"
      ]
     },
     "metadata": {},
     "execution_count": 10
    }
   ],
   "metadata": {}
  },
  {
   "cell_type": "code",
   "execution_count": 15,
   "source": [
    "#sort them and see how they rank\n",
    "#the index value are now weird\n",
    "ser2.sort_values()"
   ],
   "outputs": [
    {
     "output_type": "execute_result",
     "data": {
      "text/plain": [
       "5   -0.286020\n",
       "8   -0.284541\n",
       "1   -0.210242\n",
       "6   -0.015591\n",
       "2    0.294600\n",
       "9    0.409274\n",
       "7    0.415363\n",
       "0    0.582825\n",
       "3    0.765648\n",
       "4    1.460849\n",
       "dtype: float64"
      ]
     },
     "metadata": {},
     "execution_count": 15
    }
   ],
   "metadata": {}
  },
  {
   "cell_type": "code",
   "execution_count": 16,
   "source": [
    "#knowing the actual ranking\n",
    "#it takes the rank value and puts them in order\n",
    "ser2.rank()"
   ],
   "outputs": [
    {
     "output_type": "execute_result",
     "data": {
      "text/plain": [
       "0     8.0\n",
       "1     3.0\n",
       "2     5.0\n",
       "3     9.0\n",
       "4    10.0\n",
       "5     1.0\n",
       "6     4.0\n",
       "7     7.0\n",
       "8     2.0\n",
       "9     6.0\n",
       "dtype: float64"
      ]
     },
     "metadata": {},
     "execution_count": 16
    }
   ],
   "metadata": {}
  },
  {
   "cell_type": "code",
   "execution_count": 17,
   "source": [
    "ser3 = Series(randn(10))\n",
    "ser3"
   ],
   "outputs": [
    {
     "output_type": "execute_result",
     "data": {
      "text/plain": [
       "0    1.130859\n",
       "1    1.067545\n",
       "2   -1.716517\n",
       "3    0.853044\n",
       "4    0.383512\n",
       "5   -1.243902\n",
       "6    1.514578\n",
       "7    0.299849\n",
       "8   -0.249910\n",
       "9    2.509035\n",
       "dtype: float64"
      ]
     },
     "metadata": {},
     "execution_count": 17
    }
   ],
   "metadata": {}
  },
  {
   "cell_type": "code",
   "execution_count": 18,
   "source": [
    "ser3.rank()"
   ],
   "outputs": [
    {
     "output_type": "execute_result",
     "data": {
      "text/plain": [
       "0     8.0\n",
       "1     7.0\n",
       "2     1.0\n",
       "3     6.0\n",
       "4     5.0\n",
       "5     2.0\n",
       "6     9.0\n",
       "7     4.0\n",
       "8     3.0\n",
       "9    10.0\n",
       "dtype: float64"
      ]
     },
     "metadata": {},
     "execution_count": 18
    }
   ],
   "metadata": {}
  },
  {
   "cell_type": "code",
   "execution_count": 22,
   "source": [
    "ser3.sort_values()\n",
    "ser3.rank()"
   ],
   "outputs": [
    {
     "output_type": "execute_result",
     "data": {
      "text/plain": [
       "0     8.0\n",
       "1     7.0\n",
       "2     1.0\n",
       "3     6.0\n",
       "4     5.0\n",
       "5     2.0\n",
       "6     9.0\n",
       "7     4.0\n",
       "8     3.0\n",
       "9    10.0\n",
       "dtype: float64"
      ]
     },
     "metadata": {},
     "execution_count": 22
    }
   ],
   "metadata": {}
  },
  {
   "cell_type": "code",
   "execution_count": 23,
   "source": [
    "ser3"
   ],
   "outputs": [
    {
     "output_type": "execute_result",
     "data": {
      "text/plain": [
       "0    1.130859\n",
       "1    1.067545\n",
       "2   -1.716517\n",
       "3    0.853044\n",
       "4    0.383512\n",
       "5   -1.243902\n",
       "6    1.514578\n",
       "7    0.299849\n",
       "8   -0.249910\n",
       "9    2.509035\n",
       "dtype: float64"
      ]
     },
     "metadata": {},
     "execution_count": 23
    }
   ],
   "metadata": {}
  },
  {
   "cell_type": "code",
   "execution_count": null,
   "source": [
    " "
   ],
   "outputs": [],
   "metadata": {}
  }
 ],
 "metadata": {
  "orig_nbformat": 4,
  "language_info": {
   "name": "python",
   "version": "3.8.8",
   "mimetype": "text/x-python",
   "codemirror_mode": {
    "name": "ipython",
    "version": 3
   },
   "pygments_lexer": "ipython3",
   "nbconvert_exporter": "python",
   "file_extension": ".py"
  },
  "kernelspec": {
   "name": "python3",
   "display_name": "Python 3.8.8 64-bit ('base': conda)"
  },
  "interpreter": {
   "hash": "2b06560061a8053cb4aa09d9f08ecbcc9589291ddb3acc3e3d7226759f96a5fc"
  }
 },
 "nbformat": 4,
 "nbformat_minor": 2
}