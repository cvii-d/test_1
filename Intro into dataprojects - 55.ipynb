{
 "cells": [
  {
   "cell_type": "code",
   "execution_count": null,
   "source": [
    "Congrats! Let's get started.\n",
    "\n",
    "You have the skills you need to analyze large data sets!\n",
    "\n",
    "If you want, go ahead and just go for it with these free public data set resources:\n",
    "\n",
    "http://www.data.gov/\n",
    "\n",
    "http://aws.amazon.com/public-data-sets/\n",
    "\n",
    "http://www.google.com/publicdata/directory"
   ],
   "outputs": [],
   "metadata": {}
  }
 ],
 "metadata": {
  "orig_nbformat": 4,
  "language_info": {
   "name": "python"
  }
 },
 "nbformat": 4,
 "nbformat_minor": 2
}